{
 "cells": [
  {
   "cell_type": "markdown",
   "metadata": {},
   "source": [
    "#  TP d'introduction aux systèmes Unix"
   ]
  },
  {
   "cell_type": "markdown",
   "metadata": {},
   "source": [
    "duree:1h30\n",
    "<br>\n",
    "objectifs:s'entrainer et mieux comprendre la representation des entiers\n",
    "diffusion: donne le lien du tp en debut de sceance\n",
    "en tp, seul si possible, ou en binome\n",
    "pour la correction, un eleve m'appelle quand il a fini et j'evalue en directe si le tp est note\n",
    "</br>"
   ]
  },
  {
   "cell_type": "markdown",
   "metadata": {},
   "source": [
    "## echauffement"
   ]
  },
  {
   "cell_type": "markdown",
   "metadata": {},
   "source": [
    "question 1: completez la fonction suivante, elle verifie si une chaine de caractere passe en parametre est valide comme etant un nombre en binaire"
   ]
  },
  {
   "cell_type": "code",
   "execution_count": 5,
   "metadata": {},
   "outputs": [],
   "source": [
    "def est_valide(chaine):\n",
    "    \"\"\"\n",
    "    >>> est_valide(\"7458\")\n",
    "    False\n",
    "    >>> est_valide(\"bonjour\")\n",
    "    False\n",
    "    >>> est_valide(\"10010\")\n",
    "    True\n",
    "    \"\"\"\n",
    "    res = True\n",
    "    i = 0\n",
    "    while CONDITION and res:\n",
    "        \"\"\"\n",
    "        a completer et CONDITION a ecrire\n",
    "        \"\"\"\n",
    "    return True"
   ]
  },
  {
   "cell_type": "markdown",
   "metadata": {},
   "source": [
    "question 2:que fait la fonction suivante"
   ]
  },
  {
   "cell_type": "code",
   "execution_count": 7,
   "metadata": {},
   "outputs": [],
   "source": [
    "def fonctionMystere(chaine):\n",
    "    return chaine[-1] == 0"
   ]
  },
  {
   "cell_type": "markdown",
   "metadata": {},
   "source": [
    "## conversion du binaire au decimale"
   ]
  },
  {
   "cell_type": "markdown",
   "metadata": {},
   "source": [
    "question 1: ecrire une fonction **puissance(b)** qui calcule 2^b, si b < 0 alors la fonction devra lever une *ValueError* erreur"
   ]
  },
  {
   "cell_type": "code",
   "execution_count": null,
   "metadata": {},
   "outputs": [],
   "source": [
    "def puissance(b):\n",
    "    \"\"\"\n",
    "    >>> puissance(4)\n",
    "    16\n",
    "    >>> puissance(0)\n",
    "    1\n",
    "    \"\"\"\n",
    "    return 0"
   ]
  },
  {
   "cell_type": "markdown",
   "metadata": {},
   "source": [
    "votre fonction est-elle optimale? essayez de reecrire la fonction en utilisant les operateurs binaires vu en cours\n",
    "\n",
    "RAPPEL:\n",
    "\n",
    "    x << y # Décalage bit à gauche\n",
    "\n",
    "    x >> y # Changement binaire droit\n",
    "\n",
    "    x & y # bit à bit ET\n",
    "\n",
    "    x | y # bit à bit OU\n",
    "\n",
    "    ~ x # non binaire"
   ]
  },
  {
   "cell_type": "code",
   "execution_count": null,
   "metadata": {},
   "outputs": [],
   "source": [
    "def puissance2(b):\n",
    "    \"\"\"\n",
    "    >>> puissance(4)\n",
    "    16\n",
    "    >>> puissance(0)\n",
    "    1\n",
    "    \"\"\"\n",
    "    return 0"
   ]
  },
  {
   "cell_type": "markdown",
   "metadata": {},
   "source": [
    "question 2 : en utilisant votre fonction precedente, ecrire une fonction **binaire_decimal(k)** qui rend une chaine de caractere, verifie si elle est valide puis renvoie le nombre represente en entree"
   ]
  },
  {
   "cell_type": "code",
   "execution_count": null,
   "metadata": {},
   "outputs": [],
   "source": [
    "def binaire_decimal(k):\n",
    "    \"\"\"\n",
    "    >>> binaire_en_decimal(\"1\")\n",
    "    1\n",
    "    >>> binaire_en_decimal(\"1010\")\n",
    "    10\n",
    "    >>> binaire_en_decimal(\"1001\")\n",
    "    9\n",
    "    \"\"\"\n",
    "    return 0"
   ]
  },
  {
   "cell_type": "markdown",
   "metadata": {},
   "source": [
    "## conversion du decimale au binaire"
   ]
  },
  {
   "cell_type": "markdown",
   "metadata": {},
   "source": [
    "question 1: ecrire une fonction **division_euclidienne(nombre,diviseur)** qui retourne le resultat de la divison euclidienne de *nombre* par *diviseur* ainsi que le reste"
   ]
  },
  {
   "cell_type": "code",
   "execution_count": null,
   "metadata": {},
   "outputs": [],
   "source": [
    "def division_euclidienne(nombre,diviseur):\n",
    "    \"\"\"\n",
    "    >>> division_euclidienne(6,3)\n",
    "    (2,0)\n",
    "    >>> division_euclidienne(10,3)\n",
    "    (3,1)\n",
    "    >>> division_euclidienne(10,11)\n",
    "    (0,10)\n",
    "    \"\"\"\n",
    "    return 0"
   ]
  },
  {
   "cell_type": "markdown",
   "metadata": {},
   "source": [
    "question 2: en utlisiant la fonction precedente, ecrire une fonction **decimal_en_binaire(decimal)** qui retourne une chaine de charactere correspondant a la representation binaire de *decimal*\n",
    "si decimal < 0 alors votre fonction devra lever une *ValueError* erreur"
   ]
  },
  {
   "cell_type": "code",
   "execution_count": null,
   "metadata": {},
   "outputs": [],
   "source": [
    "def decimal_en_binaire(decimal):\n",
    "    \"\"\"\n",
    "    >>> decimal_en_binaire(16)\n",
    "    \"10000\"\n",
    "    >>> decimal_en_binaire(31)\n",
    "    \"11111\"\n",
    "    \"\"\"\n",
    "    return \"\""
   ]
  },
  {
   "cell_type": "markdown",
   "metadata": {},
   "source": [
    "## Pour aller plus loins"
   ]
  },
  {
   "cell_type": "markdown",
   "metadata": {},
   "source": [
    "ecrire une fonction **decimal_en_hexa(decimal)** qui retourne une chaine de charactere correspondant a la representation hexadeciamle de *decimal*\n",
    "si decimal < 0 alors votre fonction devra lever une *ValueError* erreur\n",
    "<br>la fonction ne devra pas comporter de serie de *if* pour trouver la representation hexadecimal de 10 par exemple"
   ]
  },
  {
   "cell_type": "code",
   "execution_count": null,
   "metadata": {},
   "outputs": [],
   "source": [
    "def decimal_en_hexa(decimal):\n",
    "    \"\"\"\n",
    "    >>> decimal_en_hexa(21)\n",
    "    \"15\"\n",
    "    >>> decimal_en_hexa(2019)\n",
    "    \"7E3\"\n",
    "    \"\"\"\n",
    "    return \"\""
   ]
  }
 ],
 "metadata": {
  "kernelspec": {
   "display_name": "Python 3",
   "language": "python",
   "name": "python3"
  },
  "language_info": {
   "codemirror_mode": {
    "name": "ipython",
    "version": 3
   },
   "file_extension": ".py",
   "mimetype": "text/x-python",
   "name": "python",
   "nbconvert_exporter": "python",
   "pygments_lexer": "ipython3",
   "version": "3.7.3"
  }
 },
 "nbformat": 4,
 "nbformat_minor": 2
}
